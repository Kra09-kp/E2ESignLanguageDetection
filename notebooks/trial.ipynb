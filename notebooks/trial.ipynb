{
 "cells": [
  {
   "cell_type": "code",
   "execution_count": 1,
   "id": "ed2f4592",
   "metadata": {},
   "outputs": [
    {
     "data": {
      "text/plain": [
       "'/media/kirti/Dev/DeepLearning/E2E/SignLanguageDetection/notebooks'"
      ]
     },
     "execution_count": 1,
     "metadata": {},
     "output_type": "execute_result"
    }
   ],
   "source": [
    "%pwd"
   ]
  },
  {
   "cell_type": "code",
   "execution_count": 7,
   "id": "e77887e1",
   "metadata": {},
   "outputs": [
    {
     "name": "stdout",
     "output_type": "stream",
     "text": [
      "/media/kirti/Dev/DeepLearning/E2E/SignLanguageDetection\n"
     ]
    }
   ],
   "source": [
    "%cd .."
   ]
  },
  {
   "cell_type": "code",
   "execution_count": 16,
   "id": "5650ec1d",
   "metadata": {},
   "outputs": [],
   "source": [
    "image_path = \"data/train/images/GoodBye_0d720912-60d9-4bde-b6de-4302e663f725.jpg\""
   ]
  },
  {
   "cell_type": "code",
   "execution_count": 12,
   "id": "f60a66f1",
   "metadata": {},
   "outputs": [],
   "source": [
    "import cv2 as cv"
   ]
  },
  {
   "cell_type": "code",
   "execution_count": 17,
   "id": "39157319",
   "metadata": {},
   "outputs": [
    {
     "data": {
      "text/plain": [
       "array([[[ 84,  91, 108],\n",
       "        [ 89, 101, 119],\n",
       "        [ 75,  97, 115],\n",
       "        ...,\n",
       "        [173, 173, 161],\n",
       "        [170, 171, 161],\n",
       "        [170, 171, 161]],\n",
       "\n",
       "       [[ 84,  87, 108],\n",
       "        [ 85,  92, 112],\n",
       "        [ 78,  95, 116],\n",
       "        ...,\n",
       "        [172, 172, 160],\n",
       "        [172, 171, 161],\n",
       "        [169, 170, 160]],\n",
       "\n",
       "       [[ 87,  81, 112],\n",
       "        [ 84,  82, 112],\n",
       "        [ 85,  89, 117],\n",
       "        ...,\n",
       "        [171, 169, 159],\n",
       "        [171, 169, 159],\n",
       "        [170, 169, 159]],\n",
       "\n",
       "       ...,\n",
       "\n",
       "       [[ 98, 124, 130],\n",
       "        [ 99, 123, 129],\n",
       "        [101, 123, 129],\n",
       "        ...,\n",
       "        [140, 119,  88],\n",
       "        [140, 121,  88],\n",
       "        [139, 120,  85]],\n",
       "\n",
       "       [[102, 121, 129],\n",
       "        [102, 121, 129],\n",
       "        [105, 123, 130],\n",
       "        ...,\n",
       "        [135, 114,  82],\n",
       "        [134, 115,  80],\n",
       "        [134, 116,  79]],\n",
       "\n",
       "       [[100, 117, 126],\n",
       "        [102, 119, 128],\n",
       "        [106, 122, 129],\n",
       "        ...,\n",
       "        [125, 105,  70],\n",
       "        [126, 107,  72],\n",
       "        [127, 109,  72]]], shape=(480, 640, 3), dtype=uint8)"
      ]
     },
     "execution_count": 17,
     "metadata": {},
     "output_type": "execute_result"
    }
   ],
   "source": [
    "# read image\n",
    "img = cv.imread(image_path)\n",
    "img\n"
   ]
  },
  {
   "cell_type": "code",
   "execution_count": 19,
   "id": "1545438f",
   "metadata": {},
   "outputs": [
    {
     "data": {
      "text/plain": [
       "(480, 640, 3)"
      ]
     },
     "execution_count": 19,
     "metadata": {},
     "output_type": "execute_result"
    }
   ],
   "source": [
    "img.shape"
   ]
  },
  {
   "cell_type": "code",
   "execution_count": 18,
   "id": "566a3d5a",
   "metadata": {},
   "outputs": [],
   "source": [
    "# crop the image\n",
    "crop_img = img[27:, :]\n",
    "# display cropped image\n",
    "cv.imshow(\"cropped\", crop_img)\n",
    "cv.waitKey(0)\n",
    "cv.destroyAllWindows()"
   ]
  },
  {
   "cell_type": "code",
   "execution_count": null,
   "id": "0e29ea0f",
   "metadata": {},
   "outputs": [],
   "source": []
  }
 ],
 "metadata": {
  "kernelspec": {
   "display_name": "SignLanguageDetection",
   "language": "python",
   "name": "python3"
  },
  "language_info": {
   "codemirror_mode": {
    "name": "ipython",
    "version": 3
   },
   "file_extension": ".py",
   "mimetype": "text/x-python",
   "name": "python",
   "nbconvert_exporter": "python",
   "pygments_lexer": "ipython3",
   "version": "3.12.3"
  }
 },
 "nbformat": 4,
 "nbformat_minor": 5
}
